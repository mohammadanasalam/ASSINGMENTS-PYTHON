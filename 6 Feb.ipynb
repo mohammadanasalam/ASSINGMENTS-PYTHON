{
 "cells": [
  {
   "cell_type": "code",
   "execution_count": 44,
   "id": "bf496f69-1869-4054-9963-0e58c7afaaf1",
   "metadata": {},
   "outputs": [
    {
     "data": {
      "text/plain": [
       "2315262738624675840"
      ]
     },
     "execution_count": 44,
     "metadata": {},
     "output_type": "execute_result"
    }
   ],
   "source": [
    "list1 = [1,2,3,4, [44,55,66, True], False, (34,56,78,89,34), {1,2,3,3,2,1}, {1:34, \"key2\": [55, 67, 78, 89], 4: (45,22, 61, 34)}, [56, 'data science'], 'Machine Learning']\n",
    "new_list=[]\n",
    "for i in list1:\n",
    "    if type(i)== list or type(i)== tuple or type(i)== set :\n",
    "        for j in i:\n",
    "            new_list.append(j)\n",
    "    elif type(i) == dict:\n",
    "        for k in i:\n",
    "            new_list.append(k)\n",
    "    else:\n",
    "        if type(i)== int or type(i)== float:\n",
    "            new_list.append(i)\n",
    "\n",
    "number_list  =list(filter(lambda x: type(x) == int , new_list))\n",
    "\n",
    "from functools import reduce\n",
    "reduce(lambda x , y : x*y, number_list)"
   ]
  },
  {
   "cell_type": "code",
   "execution_count": 14,
   "id": "9d64d1e8-b682-4fae-8b00-c9fcff6c14de",
   "metadata": {},
   "outputs": [],
   "source": [
    "# Q2. Write a python program for encrypting a message sent to you by your friend. The logic of encryption\n",
    "# should be such that, for a the output should be z. For b, the output should be y. For c, the output should\n",
    "# be x respectively. Also, the whitespace should be replaced with a dollar sign. Keep the punctuation\n",
    "# marks unchanged.\n",
    "# Input Sentence: I want to become a Data Scientist.\n",
    "# Encrypt the above input sentence using the program you just created."
   ]
  },
  {
   "cell_type": "code",
   "execution_count": 14,
   "id": "defe053b-3a21-4610-b3f7-b4c68345a99f",
   "metadata": {},
   "outputs": [],
   "source": [
    "sentance = \"I want to become a Data Scientist.\""
   ]
  },
  {
   "cell_type": "code",
   "execution_count": 19,
   "id": "d6dc1372-c805-46e6-af23-9df94f67d9e5",
   "metadata": {},
   "outputs": [
    {
     "name": "stdout",
     "output_type": "stream",
     "text": [
      "i$wznt$to$yexome$z$dztz$sxientist.\n"
     ]
    }
   ],
   "source": [
    "new_sentance = sentance.lower()\n",
    "for i in new_sentance:\n",
    "    if i ==\"a\":\n",
    "        new_sentance =new_sentance.replace(i,\"z\")\n",
    "    elif i ==\"b\":\n",
    "        new_sentance =new_sentance.replace(i,\"y\")\n",
    "    elif i ==\"c\":\n",
    "        new_sentance =new_sentance.replace(i,\"x\")\n",
    "    elif i == \" \":\n",
    "        new_sentance = new_sentance.replace(i,\"$\")\n",
    "        \n",
    "        \n",
    "print(new_sentance)"
   ]
  },
  {
   "cell_type": "code",
   "execution_count": 23,
   "id": "83794b8e-3665-4878-b4a3-f9d0370841d3",
   "metadata": {},
   "outputs": [
    {
     "ename": "SyntaxError",
     "evalue": "incomplete input (3048834596.py, line 8)",
     "output_type": "error",
     "traceback": [
      "\u001b[0;36m  Cell \u001b[0;32mIn[23], line 8\u001b[0;36m\u001b[0m\n\u001b[0;31m    \u001b[0m\n\u001b[0m    ^\u001b[0m\n\u001b[0;31mSyntaxError\u001b[0m\u001b[0;31m:\u001b[0m incomplete input\n"
     ]
    }
   ],
   "source": []
  },
  {
   "cell_type": "code",
   "execution_count": 24,
   "id": "c9c0aca1-c658-4beb-b245-0cd4a539afe3",
   "metadata": {},
   "outputs": [
    {
     "ename": "TypeError",
     "evalue": "'set' object is not subscriptable",
     "output_type": "error",
     "traceback": [
      "\u001b[0;31m---------------------------------------------------------------------------\u001b[0m",
      "\u001b[0;31mTypeError\u001b[0m                                 Traceback (most recent call last)",
      "Cell \u001b[0;32mIn[24], line 1\u001b[0m\n\u001b[0;32m----> 1\u001b[0m \u001b[38;5;28mtype\u001b[39m(\u001b[43mlist1\u001b[49m\u001b[43m[\u001b[49m\u001b[38;5;241;43m7\u001b[39;49m\u001b[43m]\u001b[49m\u001b[43m[\u001b[49m\u001b[38;5;241;43m0\u001b[39;49m\u001b[43m]\u001b[49m)\n",
      "\u001b[0;31mTypeError\u001b[0m: 'set' object is not subscriptable"
     ]
    }
   ],
   "source": [
    "type(list1[7][0])"
   ]
  },
  {
   "cell_type": "code",
   "execution_count": null,
   "id": "9a30ad1d-a478-43e2-9d87-707508d4c320",
   "metadata": {},
   "outputs": [],
   "source": []
  }
 ],
 "metadata": {
  "kernelspec": {
   "display_name": "Python 3 (ipykernel)",
   "language": "python",
   "name": "python3"
  },
  "language_info": {
   "codemirror_mode": {
    "name": "ipython",
    "version": 3
   },
   "file_extension": ".py",
   "mimetype": "text/x-python",
   "name": "python",
   "nbconvert_exporter": "python",
   "pygments_lexer": "ipython3",
   "version": "3.10.8"
  }
 },
 "nbformat": 4,
 "nbformat_minor": 5
}
