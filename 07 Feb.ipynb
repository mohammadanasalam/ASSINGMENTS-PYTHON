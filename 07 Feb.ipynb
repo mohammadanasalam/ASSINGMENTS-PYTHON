{
 "cells": [
  {
   "cell_type": "code",
   "execution_count": 3,
   "id": "f68602ca-79c2-47e1-9a3b-56ae8acce050",
   "metadata": {},
   "outputs": [],
   "source": [
    "'''Q1. You are writing code for a company. The requirement of the company is that you create a python\n",
    "function that will check whether the password entered by the user is correct or not. The function should\n",
    "take the password as input and return the string “Valid Password” if the entered password follows the\n",
    "below-given password guidelines else it should return “Invalid Password”.\n",
    "Note: 1. The Password should contain at least two uppercase letters and at least two lowercase letters.\n",
    "2. The Password should contain at least a number and three special characters.\n",
    "3. The length of the password should be 10 characters long.'''\n",
    "\n",
    "def check_pwd(pwd):\n",
    "    upper_case=\"ABCDEFGHIJKLMNOPQRSTUVWXYZ\"\n",
    "    lower_case= \"abcdefghijklmnopqrstuvwxyz\"\n",
    "    num = \"1234567890\"\n",
    "    spec_char = \"@#$%^&*?\"\n",
    "    for i in pwd:\n",
    "        upper_count = 0\n",
    "        lower_count = 0\n",
    "        num_count = 0\n",
    "        spec_count = 0\n",
    "        if i in upper_case:\n",
    "            upper_count += 1\n",
    "        if i in lower_case:\n",
    "            lower_count += 1\n",
    "        if i in num:\n",
    "            num_count += 1\n",
    "        if i in spec_char:\n",
    "            spec_count += 1\n",
    "    if len(pwd) == 10 and upper_count >= 2 and lower_count >= 2 and num_count ==1 and spec_count ==3:\n",
    "        return \"Valid Password\"\n",
    "    else:\n",
    "        return \"Invalid Password\" "
   ]
  },
  {
   "cell_type": "code",
   "execution_count": 9,
   "id": "09e0495d-a7cb-431c-b22d-e1dca1d958a3",
   "metadata": {},
   "outputs": [],
   "source": [
    "# Check if the string starts with a particular letter.\n",
    "starts_with_letter = lambda input_string, letter: input_string.startswith(letter)"
   ]
  },
  {
   "cell_type": "code",
   "execution_count": 10,
   "id": "a5398786-8ae1-4bd1-98bf-68f907b0115f",
   "metadata": {},
   "outputs": [],
   "source": [
    "# Check if the string is numeric.\n",
    "is_numeric = lambda input_string: input_string.isnumeric()"
   ]
  },
  {
   "cell_type": "code",
   "execution_count": 15,
   "id": "c3753729-12bc-4b2e-a8dd-4c8ad3fab0f2",
   "metadata": {},
   "outputs": [
    {
     "name": "stdout",
     "output_type": "stream",
     "text": [
      "[('grapes', 1000), ('mango', 99), ('orange', 80)]\n"
     ]
    }
   ],
   "source": [
    "# Sort a list of tuples having fruit names and their quantity. [(\"mango\",99),(\"orange\",80), (\"grapes\", 1000)]\n",
    "l = [(\"mango\",99),(\"orange\",80), (\"grapes\", 1000)]\n",
    "l.sort()\n",
    "print(l)"
   ]
  },
  {
   "cell_type": "code",
   "execution_count": 19,
   "id": "4b76a4f9-0b5f-4aef-8013-c143d79e818a",
   "metadata": {},
   "outputs": [],
   "source": [
    "# Find the squares of numbers from 1 to 10\n",
    "# Find the cube root of numbers from 1 to 10\n",
    "sq = [x**2 for x in range(1,11)]\n",
    "cube = [y**3 for y in range(1,11)]"
   ]
  },
  {
   "cell_type": "code",
   "execution_count": 22,
   "id": "8dc75e40-573a-4bcc-b1ba-32a2afa82d9a",
   "metadata": {},
   "outputs": [],
   "source": [
    "# Check if a given number is even.\n",
    "def check_num(n):\n",
    "    if n%2 ==0 :\n",
    "        return \"Even\"\n",
    "    else:\n",
    "        return \"Odd\""
   ]
  },
  {
   "cell_type": "code",
   "execution_count": 24,
   "id": "4575b9c6-801e-4d49-8b21-72405f754f00",
   "metadata": {},
   "outputs": [],
   "source": [
    "# Filter odd numbers from the given list.\n",
    "l = [1,2,3,4,5,6,7,8,9,10]\n",
    "odd_l = [x for x in l if x%2 ==1]"
   ]
  },
  {
   "cell_type": "code",
   "execution_count": 25,
   "id": "66e02fd9-85b7-42ef-b4ab-bedb155162a5",
   "metadata": {},
   "outputs": [],
   "source": [
    "# Sort a list of integers into positive and negative integers lists.\n",
    "l1 = [1,2,3,4,5,6,-1,-2,-3,-4,-5,0]\n",
    "pos_l =[]\n",
    "neg_l =[]\n",
    "for i in l1:\n",
    "    if i > 0:\n",
    "        pos_l.append(i)\n",
    "    if i < 0:\n",
    "        neg_l.append(i)"
   ]
  },
  {
   "cell_type": "code",
   "execution_count": 26,
   "id": "b5ddce73-bc5f-4718-ba9d-c2bf84297b90",
   "metadata": {},
   "outputs": [
    {
     "data": {
      "text/plain": [
       "[1, 2, 3, 4, 5, 6]"
      ]
     },
     "execution_count": 26,
     "metadata": {},
     "output_type": "execute_result"
    }
   ],
   "source": [
    "pos_l"
   ]
  },
  {
   "cell_type": "code",
   "execution_count": 27,
   "id": "8517259c-2c4d-449a-b78a-ef7592158459",
   "metadata": {},
   "outputs": [
    {
     "data": {
      "text/plain": [
       "[-1, -2, -3, -4, -5, 0]"
      ]
     },
     "execution_count": 27,
     "metadata": {},
     "output_type": "execute_result"
    }
   ],
   "source": [
    "neg_l"
   ]
  },
  {
   "cell_type": "code",
   "execution_count": null,
   "id": "5aff6ec2-3e33-46af-a50e-a9dca3e64850",
   "metadata": {},
   "outputs": [],
   "source": []
  }
 ],
 "metadata": {
  "kernelspec": {
   "display_name": "Python 3 (ipykernel)",
   "language": "python",
   "name": "python3"
  },
  "language_info": {
   "codemirror_mode": {
    "name": "ipython",
    "version": 3
   },
   "file_extension": ".py",
   "mimetype": "text/x-python",
   "name": "python",
   "nbconvert_exporter": "python",
   "pygments_lexer": "ipython3",
   "version": "3.10.8"
  }
 },
 "nbformat": 4,
 "nbformat_minor": 5
}
