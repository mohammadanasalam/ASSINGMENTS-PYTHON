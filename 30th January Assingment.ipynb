{
 "cells": [
  {
   "cell_type": "code",
   "execution_count": 1,
   "id": "802fc25e-b4ba-49c8-aa31-b31d268f9e85",
   "metadata": {},
   "outputs": [
    {
     "name": "stdin",
     "output_type": "stream",
     "text": [
      "Enter your percentage: 80\n"
     ]
    },
    {
     "name": "stdout",
     "output_type": "stream",
     "text": [
      "your grade is: C\n"
     ]
    }
   ],
   "source": [
    "# 1. Write a program to accept percentage from user and print grade according to it\n",
    "\n",
    "percentage = int(input(\"Enter your percentage:\"))\n",
    "if percentage > 90 and percentage <= 100:\n",
    "    print(\"your grade is: A\")\n",
    "elif percentage > 80 and percentage <= 90:\n",
    "    print(\"your grade is: B\")\n",
    "elif percentage >= 60 and percentage <= 80:\n",
    "    print(\"your grade is: C\")\n",
    "elif perccp_bikeage < 60:\n",
    "    print(\"your grade is: D\")\n",
    "else:\n",
    "    print(\"Invalid Input\")"
   ]
  },
  {
   "cell_type": "code",
   "execution_count": 2,
   "id": "bd3d7818-9615-46c6-8525-c22948cb35d9",
   "metadata": {},
   "outputs": [
    {
     "name": "stdin",
     "output_type": "stream",
     "text": [
      "Enter the cost price of your bike: 90000\n"
     ]
    },
    {
     "name": "stdout",
     "output_type": "stream",
     "text": [
      "You need to pay 10% of your bike cost price as a Road Tax\n"
     ]
    }
   ],
   "source": [
    "# 2. Write a program to accept the cost price of the bike and display the road tax to be paid\n",
    "\n",
    "cp_bike = int(input(\"Enter the cost price of your bike:\"))\n",
    "if cp_bike > 100000:\n",
    "    print(\"You need to pay 15% of your bike cost price as a Road Tax\")\n",
    "elif cp_bike > 50000 and cp_bike <= 100000:\n",
    "    print(\"You need to pay 10% of your bike cost price as a Road Tax\")\n",
    "elif cp_bike <= 50000:\n",
    "    print(\"You need to pay 5% of your bike cost price as a Road Tax\")  "
   ]
  },
  {
   "cell_type": "code",
   "execution_count": 3,
   "id": "e27a5acf-c5c8-41b5-868c-39f3649bb46f",
   "metadata": {},
   "outputs": [
    {
     "name": "stdout",
     "output_type": "stream",
     "text": [
      "List of cities you can choose:\n",
      "1.Delhi\n",
      "2.Agra\n",
      "3.Jaipur\n"
     ]
    },
    {
     "name": "stdin",
     "output_type": "stream",
     "text": [
      "Enter city name to view monument from that city: delhi\n"
     ]
    },
    {
     "name": "stdout",
     "output_type": "stream",
     "text": [
      "Monument present in Delhi is Red Fort\n"
     ]
    }
   ],
   "source": [
    "# 3. Accept any city from user and display monument from that city\n",
    "\n",
    "print(\"List of cities you can choose:\\n1.Delhi\\n2.Agra\\n3.Jaipur\")\n",
    "city = input(\"Enter city name to view monument from that city:\")\n",
    "if city == \"Delhi\" or city == \"delhi\":\n",
    "    print(\"Monument present in Delhi is Red Fort\")\n",
    "if city == \"Agra\" or city == \"agra\":\n",
    "    print(\"Monument present in Agra is Taj Mahal\")\n",
    "if city == \"Jaipur\" or city == \"jaipur\":\n",
    "    print(\"Monument present in Jaipur is Jal Mahal\")"
   ]
  },
  {
   "cell_type": "code",
   "execution_count": 1,
   "id": "701c6132-23c2-4a37-9716-daf439367a7f",
   "metadata": {},
   "outputs": [
    {
     "name": "stdin",
     "output_type": "stream",
     "text": [
      "Enter your number: 90\n"
     ]
    },
    {
     "name": "stdout",
     "output_type": "stream",
     "text": [
      "number can be divided 2 times before it is < 10\n"
     ]
    }
   ],
   "source": [
    "# 4. Check how many times a given number can be divided by 3 before it is <= 10\n",
    "a = int(input(\"Enter your number:\"))\n",
    "count= 0\n",
    "while a > 10:\n",
    "    temp = a/3\n",
    "    a = temp\n",
    "    count = count + 1\n",
    "print(\"number can be divided\", count, \"times before it is < 10\")\n",
    "    \n",
    "        "
   ]
  },
  {
   "cell_type": "code",
   "execution_count": null,
   "id": "d08b2cd9-c0ff-41e3-a952-b6763f46ca52",
   "metadata": {},
   "outputs": [],
   "source": [
    "# 5. Why and when to use while loop in python\n",
    "'''In Python, the while loop is used to repeatedly execute a block of code as long as a given condition is true.\n",
    "The code inside the while loop will be executed repeatedly until the condition becomes false. If the condition is false from the beginning, the code inside the loop will not be executed at all.'''"
   ]
  },
  {
   "cell_type": "code",
   "execution_count": 3,
   "id": "6a833341-e440-460b-88f6-7e42ea17fd37",
   "metadata": {},
   "outputs": [
    {
     "name": "stdout",
     "output_type": "stream",
     "text": [
      "10\n",
      "9\n",
      "8\n",
      "7\n",
      "6\n",
      "5\n",
      "4\n",
      "3\n",
      "2\n",
      "1\n"
     ]
    }
   ],
   "source": [
    "# 7. reverse while loop to display numbers from 10 to 1\n",
    "a = 10 \n",
    "count=0\n",
    "while a > count:\n",
    "    print(a)\n",
    "    a = a - 1"
   ]
  },
  {
   "cell_type": "code",
   "execution_count": 15,
   "id": "c3c026de-b1ce-4bb3-926c-99c9709f27e7",
   "metadata": {},
   "outputs": [
    {
     "ename": "IndentationError",
     "evalue": "expected an indented block after 'while' statement on line 7 (1533668582.py, line 8)",
     "output_type": "error",
     "traceback": [
      "\u001b[0;36m  Cell \u001b[0;32mIn[15], line 8\u001b[0;36m\u001b[0m\n\u001b[0;31m    print(\"qqqqq \\n rrrrr \\n ttttt\")\u001b[0m\n\u001b[0m    ^\u001b[0m\n\u001b[0;31mIndentationError\u001b[0m\u001b[0;31m:\u001b[0m expected an indented block after 'while' statement on line 7\n"
     ]
    }
   ],
   "source": [
    "# 6. Use nested while loop to produce three different pattern\n",
    "number =5\n",
    "while number == 5:\n",
    "    print(\"aaaa \\n bbbb \\n cccc\")\n",
    "    while(True):\n",
    "        print(\"eee \\n fff \\n ggg\")\n",
    "        while(True):\n",
    "        print(\"qqqqq \\n rrrrr \\n ttttt\")\n",
    "                break\n",
    "                "
   ]
  },
  {
   "cell_type": "code",
   "execution_count": null,
   "id": "ecf44825-8643-45ad-b274-f4c6f61f763f",
   "metadata": {},
   "outputs": [],
   "source": []
  }
 ],
 "metadata": {
  "kernelspec": {
   "display_name": "Python 3 (ipykernel)",
   "language": "python",
   "name": "python3"
  },
  "language_info": {
   "codemirror_mode": {
    "name": "ipython",
    "version": 3
   },
   "file_extension": ".py",
   "mimetype": "text/x-python",
   "name": "python",
   "nbconvert_exporter": "python",
   "pygments_lexer": "ipython3",
   "version": "3.10.8"
  }
 },
 "nbformat": 4,
 "nbformat_minor": 5
}
