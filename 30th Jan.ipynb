{
 "cells": [
  {
   "cell_type": "code",
   "execution_count": 1,
   "id": "9b7606cc-62f6-4281-a7e4-44fdadf989a7",
   "metadata": {},
   "outputs": [
    {
     "name": "stdin",
     "output_type": "stream",
     "text": [
      "Enter you marks: 99\n"
     ]
    },
    {
     "name": "stdout",
     "output_type": "stream",
     "text": [
      "You got grade 'A'\n"
     ]
    }
   ],
   "source": [
    "# 1. program to accept marks from user and give grade accordingly\n",
    "marks = int(input(\"Enter you marks:\"))\n",
    "if marks > 90:\n",
    "    print(\"You got grade 'A'\")\n",
    "elif 80< marks <= 90:\n",
    "    print(\"You got grade 'B'\")\n",
    "elif 60<= marks<=80:\n",
    "    print(\"you got grade'C'\")\n",
    "elif marks<60:\n",
    "    print(\"You got grade'D'\")\n",
    "else:\n",
    "    print(\"You have given invalid input\")"
   ]
  },
  {
   "cell_type": "code",
   "execution_count": 6,
   "id": "8a769687-e73d-4640-b90b-8a7a4e4ff0f7",
   "metadata": {},
   "outputs": [
    {
     "name": "stdin",
     "output_type": "stream",
     "text": [
      "Enter the cost price of the bike: 60000\n"
     ]
    },
    {
     "name": "stdout",
     "output_type": "stream",
     "text": [
      "6000.0\n"
     ]
    }
   ],
   "source": [
    "# 2. Program to accept the cost price of the bike and display the road tax to be paid.\n",
    "cp = int(input(\"Enter the cost price of the bike:\"))\n",
    "if cp > 100000:\n",
    "    print((15/100)*cp)\n",
    "elif 50000 < cp <= 100000:\n",
    "    print((10/100)*cp)\n",
    "elif cp <= 50000:\n",
    "    print((5/100)*cp)\n",
    "else:\n",
    "    print(\"You have given invalid output\")"
   ]
  },
  {
   "cell_type": "code",
   "execution_count": 10,
   "id": "11325549-3e10-4374-8ced-f00b1f30fc8e",
   "metadata": {},
   "outputs": [
    {
     "name": "stdin",
     "output_type": "stream",
     "text": [
      "Enter your city: mumbai\n"
     ]
    },
    {
     "name": "stdout",
     "output_type": "stream",
     "text": [
      "You are from different city\n"
     ]
    }
   ],
   "source": [
    "# Accept any city from the user and display monument\n",
    "city = input(\"Enter your city:\")\n",
    "if city == \"delhi\":\n",
    "    print(\"Your monument is 'RED FORT'\")\n",
    "elif city == \"Agra\":\n",
    "    print(\"Your monument is 'TAJ MAHAL'\")\n",
    "elif city == \"jaipur\":\n",
    "    print(\"Your monument is 'JAL MAHAL'\")\n",
    "else:\n",
    "    print(\"You are from different city\")"
   ]
  },
  {
   "cell_type": "code",
   "execution_count": null,
   "id": "cdf58069-b8d2-42ad-b113-4512394f1aee",
   "metadata": {},
   "outputs": [],
   "source": [
    "# check how many times a given number id divisible by 3 before it is less than or equal to 10\n",
    "a = int(input(\"Enter your number:\"))\n",
    "while a > 10:\n",
    "    print(a/3)\n",
    "else: \n",
    "    "
   ]
  },
  {
   "cell_type": "code",
   "execution_count": null,
   "id": "1bdef607-0751-49af-89a7-990a7e27cf77",
   "metadata": {},
   "outputs": [],
   "source": []
  }
 ],
 "metadata": {
  "kernelspec": {
   "display_name": "Python 3 (ipykernel)",
   "language": "python",
   "name": "python3"
  },
  "language_info": {
   "codemirror_mode": {
    "name": "ipython",
    "version": 3
   },
   "file_extension": ".py",
   "mimetype": "text/x-python",
   "name": "python",
   "nbconvert_exporter": "python",
   "pygments_lexer": "ipython3",
   "version": "3.10.8"
  }
 },
 "nbformat": 4,
 "nbformat_minor": 5
}
