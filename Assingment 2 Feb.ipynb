{
 "cells": [
  {
   "cell_type": "code",
   "execution_count": 7,
   "id": "0f548fde-0e0a-40e7-8dc9-496c886ea3f3",
   "metadata": {},
   "outputs": [],
   "source": [
    "# Q1. Explain with an example each when to use a for loop and a while loop.\n",
    "'''A for loop is used to iterate over a sequence (such as a list, tuple, or string) or other iterable object and execute a block of code for each element.'''\n",
    "'''Here's an example of using a for loop to print the elements of a list:'''\n",
    "l = [1, 2, 3, 4, 5, 6]\n",
    "for i in l :\n",
    "    print(i)\n",
    "    \n",
    "'''A while loop, on the other hand, is used to repeat a block of code as long as a certain condition is met.'''\n",
    "'''Here's an example of using a while loop to print the numbers from 0 to 5:'''\n",
    "a = 1\n",
    "while a <= 5:\n",
    "    print(a)\n",
    "    a = a + 1"
   ]
  },
  {
   "cell_type": "code",
   "execution_count": 1,
   "id": "725baeed-e0ae-4a88-81a8-108cc464a13d",
   "metadata": {},
   "outputs": [
    {
     "name": "stdout",
     "output_type": "stream",
     "text": [
      "The sum of first 10 natural number using for loop is: 55\n",
      "The product of first 10 natural number using for loop is: 3628800\n"
     ]
    }
   ],
   "source": [
    "# Q2. Write a python program to print the sum and product of the first 10 natural numbers using for and while loop.\n",
    "\n",
    "# sum and product of first 10 natural number using for loop:\n",
    "result = 0\n",
    "l_natural = [1,2,3,4,5,6,7,8,9,10]\n",
    "for i in l_natural:\n",
    "    result = result+ i\n",
    "print(\"The sum of first 10 natural number using for loop is:\", result)\n",
    "\n",
    "product_result = 1\n",
    "for i in l_natural:\n",
    "    product_result = product_result* i\n",
    "print(\"The product of first 10 natural number using for loop is:\", product_result)"
   ]
  },
  {
   "cell_type": "code",
   "execution_count": 10,
   "id": "ef68d101-98d4-48cb-b5a8-1f1e2692143e",
   "metadata": {},
   "outputs": [
    {
     "name": "stdout",
     "output_type": "stream",
     "text": [
      "The sum of first 10 natural number using while loop is: 55\n"
     ]
    }
   ],
   "source": [
    "# Sum and product of first 10 natural number using while loop.\n",
    "\n",
    "a = 1\n",
    "variable = 0\n",
    "while a<=10:\n",
    "    variable = variable + a\n",
    "    a = a+1\n",
    "print(\"The sum of first 10 natural number using while loop is:\", variable)\n",
    "\n",
    "p_variable = 1\n",
    "while a<= 10:\n",
    "    p_variable = p_variable * a\n",
    "    a = a+1\n",
    "print(\"The product of first 10 natural numbers using while loop is\", p_variable)"
   ]
  },
  {
   "cell_type": "code",
   "execution_count": 20,
   "id": "53452272-ba9f-46dc-ae90-4d3b7f7ed042",
   "metadata": {},
   "outputs": [
    {
     "name": "stdin",
     "output_type": "stream",
     "text": [
      "Enter the unit of electricity you have consumed this month: 310\n"
     ]
    },
    {
     "name": "stdout",
     "output_type": "stream",
     "text": [
      "Total Bill Amount: 2250.0\n"
     ]
    }
   ],
   "source": [
    "# Create a python program to compute the electricity bill for a household.\n",
    "\n",
    "unit = int(input(\"Enter the unit of electricity you have consumed this month:\"))\n",
    "if unit <= 100:\n",
    "    print(\"Total Bill Amount:\", unit * 4.5)\n",
    "elif unit <= 200 and unit >100:\n",
    "    unit = unit -100\n",
    "    print(\"Total Bill Amount:\", (4.5 * 100)+(unit * 6))\n",
    "elif unit <=300 and unit >200:\n",
    "    unit = unit -200\n",
    "    print(\"Total Bill Amount:\", (4.5*100)+(6*100)+(unit*10))\n",
    "elif unit>300:\n",
    "    unit = unit -300\n",
    "    print(\"Total Bill Amount:\", (4.5*100)+(6*100)+(10*100)+(unit*20))\n",
    "        \n",
    "        \n",
    "    "
   ]
  },
  {
   "cell_type": "code",
   "execution_count": 35,
   "id": "79081ea9-0ff2-4f25-9cbd-b111e17cb35b",
   "metadata": {},
   "outputs": [
    {
     "name": "stdout",
     "output_type": "stream",
     "text": [
      "[8, 64, 125, 216, 512, 1000, 1728, 2744, 3375, 4096, 5832, 8000, 10648, 13824, 15625, 17576, 21952, 27000, 32768, 39304, 42875, 46656, 54872, 64000, 74088, 85184, 91125, 97336, 110592, 125000, 140608, 157464, 166375, 175616, 195112, 216000, 238328, 262144, 274625, 287496, 314432, 343000, 373248, 405224, 421875, 438976, 474552, 512000, 551368, 592704, 614125, 636056, 681472, 729000, 778688, 830584, 857375, 884736, 941192, 1000000]\n"
     ]
    }
   ],
   "source": [
    "# Q4. Create a list of numbers from 1 to 100. Use for loop and while loop to calculate the cube of each\n",
    "# number and if the cube of that number is divisible by 4 or 5 then append that number in a list and print\n",
    "# that list.\n",
    "list = []\n",
    "for i in range(1 ,101):\n",
    "    a = i**3\n",
    "    if (a%4==0) or (a%5==0):\n",
    "           list.append(a)\n",
    "print(list)"
   ]
  },
  {
   "cell_type": "code",
   "execution_count": 34,
   "id": "c2527fd5-a1ea-41ce-b6c4-36d4256ba446",
   "metadata": {},
   "outputs": [
    {
     "name": "stdout",
     "output_type": "stream",
     "text": [
      "[8, 64, 125, 216, 512, 1000, 1728, 2744, 3375, 4096, 5832, 8000, 10648, 13824, 15625, 17576, 21952, 27000, 32768, 39304, 42875, 46656, 54872, 64000, 74088, 85184, 91125, 97336, 110592, 125000, 140608, 157464, 166375, 175616, 195112, 216000, 238328, 262144, 274625, 287496, 314432, 343000, 373248, 405224, 421875, 438976, 474552, 512000, 551368, 592704, 614125, 636056, 681472, 729000, 778688, 830584, 857375, 884736, 941192, 1000000]\n"
     ]
    }
   ],
   "source": [
    "# Q4. Using while loop:\n",
    "list1 = []\n",
    "counter = 1\n",
    "while counter <= 100:\n",
    "    cube = counter ** 3\n",
    "    if (cube%4 == 0) or (cube%5 == 0):\n",
    "        list1.append(cube)\n",
    "    counter = counter + 1\n",
    "print(list)\n",
    "    \n",
    "    "
   ]
  },
  {
   "cell_type": "code",
   "execution_count": 44,
   "id": "a0b87e76-ebed-4387-967d-9751e9bf1306",
   "metadata": {},
   "outputs": [
    {
     "name": "stdout",
     "output_type": "stream",
     "text": [
      "i\n",
      " \n",
      "w\n",
      "a\n",
      "n\n",
      "t\n",
      " \n",
      "t\n",
      "o\n",
      " \n",
      "b\n",
      "e\n",
      "c\n",
      "o\n",
      "m\n",
      "e\n",
      " \n",
      "a\n",
      " \n",
      "D\n",
      "a\n",
      "t\n",
      "a\n",
      " \n",
      "S\n",
      "c\n",
      "i\n",
      "e\n",
      "n\n",
      "t\n",
      "i\n",
      "s\n",
      "t\n"
     ]
    }
   ],
   "source": [
    "list_vowel = []\n",
    "string = \"i want to become a Data Scientist\"\n",
    "vowel = ['a','e','i','o','u']\n",
    "for i in string:\n",
    "    print(i)\n",
    "    if i in vowel:\n",
    "        list_vowel.append(i)"
   ]
  },
  {
   "cell_type": "code",
   "execution_count": null,
   "id": "9371d73c-e708-4831-856f-a35a69b2468c",
   "metadata": {},
   "outputs": [],
   "source": []
  }
 ],
 "metadata": {
  "kernelspec": {
   "display_name": "Python 3 (ipykernel)",
   "language": "python",
   "name": "python3"
  },
  "language_info": {
   "codemirror_mode": {
    "name": "ipython",
    "version": 3
   },
   "file_extension": ".py",
   "mimetype": "text/x-python",
   "name": "python",
   "nbconvert_exporter": "python",
   "pygments_lexer": "ipython3",
   "version": "3.10.8"
  }
 },
 "nbformat": 4,
 "nbformat_minor": 5
}
