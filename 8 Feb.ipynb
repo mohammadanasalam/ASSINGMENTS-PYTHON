{
 "cells": [
  {
   "cell_type": "code",
   "execution_count": 8,
   "id": "175f0e39-e5f0-475a-b937-edcffa267578",
   "metadata": {},
   "outputs": [],
   "source": [
    "# Question 1:\n",
    "'''Abstarction is the method used in python to call the given defined function from the main class which define as skeleton.'''\n",
    "# Example:\n",
    "import abc\n",
    "class india:\n",
    "    \n",
    "    @abc.abstractmethod\n",
    "    def people_gender(self):\n",
    "        pass\n",
    "    \n",
    "    @abc.abstractmethod\n",
    "    def people_age_group(self):\n",
    "        pass\n",
    "    \n",
    "    @abc.abstractmethod\n",
    "    def people_religion(self):\n",
    "        pass"
   ]
  },
  {
   "cell_type": "code",
   "execution_count": 9,
   "id": "03d204f7-a9f0-49aa-874b-16d0013fc97c",
   "metadata": {},
   "outputs": [],
   "source": [
    "class person_details(india):\n",
    "     \n",
    "        def people_age(self):\n",
    "            return \"This will give gender of the people of india\"\n",
    "        \n",
    "        def people_religion(self):\n",
    "            return\"This will give religion of the people of india\""
   ]
  },
  {
   "cell_type": "code",
   "execution_count": 10,
   "id": "127d09cd-dc05-48db-94aa-5821ddd1c490",
   "metadata": {},
   "outputs": [],
   "source": [
    "person_details_obj = person_details()"
   ]
  },
  {
   "cell_type": "code",
   "execution_count": 11,
   "id": "1a9fe0ba-b44a-4207-83a7-619217587f4b",
   "metadata": {},
   "outputs": [
    {
     "data": {
      "text/plain": [
       "'This will give gender of the people of india'"
      ]
     },
     "execution_count": 11,
     "metadata": {},
     "output_type": "execute_result"
    }
   ],
   "source": [
    "person_details_obj.people_religion()\n",
    "person_details_obj.people_age()"
   ]
  },
  {
   "cell_type": "code",
   "execution_count": 12,
   "id": "d9610e1b-1fa4-4e9a-9745-100d6a3fb2cf",
   "metadata": {},
   "outputs": [
    {
     "data": {
      "text/plain": [
       "'Encapsulation is a method of making a complex system easier to handle for end users. The user need not worry about internal details and complexities of the system. Encapsulation is a process of wrapping the data and the code, that operate on the data into a single entity. You can assume it as a protective wrapper that stops random access of code defined outside that wrapper.'"
      ]
     },
     "execution_count": 12,
     "metadata": {},
     "output_type": "execute_result"
    }
   ],
   "source": [
    "# Question 2:\n",
    "'''Abstraction is the concept of object-oriented programming that \"shows\" only essential attributes and \"hides\" unnecessary information. The main purpose of abstraction is hiding the unnecessary details from the users. Abstraction is selecting data from a larger pool to show only relevant details of the object to the user. It helps in reducing programming complexity and efforts. It is one of the most important concepts of OOPs.'''\n",
    "'''Encapsulation is a method of making a complex system easier to handle for end users. The user need not worry about internal details and complexities of the system. Encapsulation is a process of wrapping the data and the code, that operate on the data into a single entity. You can assume it as a protective wrapper that stops random access of code defined outside that wrapper.'''\n",
    "'''Abstraction:\n",
    "An example of abstraction is a car dashboard. When you drive a car, you don't need to understand how the engine works or how the fuel injectors function. Instead, you have a dashboard that abstracts away all of these details and provides you with a simple set of controls that you can use to operate the vehicle. The dashboard abstracts away the complex workings of the car and presents you with a simplified interface.\n",
    "\n",
    "Encapsulation:\n",
    "An example of encapsulation is a class in object-oriented programming. A class is a container for data and functions that are related to each other. The data is stored inside the class and is hidden from outside code. Instead of accessing the data directly, outside code interacts with the class by calling its functions. The functions inside the class can access and modify the data, but outside code cannot. This encapsulation allows the class to maintain the integrity of its data and ensures that it is not modified in unexpected ways.\n",
    "\n",
    "\n",
    "\n",
    "\n",
    "'''"
   ]
  },
  {
   "cell_type": "code",
   "execution_count": 13,
   "id": "47516892-e265-4226-843c-a47e94b5ac0c",
   "metadata": {},
   "outputs": [
    {
     "data": {
      "text/plain": [
       "'The abc module in Python stands for \"Abstract Base Classes\". It is a built-in module that provides a way to define abstract base classes in Python.'"
      ]
     },
     "execution_count": 13,
     "metadata": {},
     "output_type": "execute_result"
    }
   ],
   "source": [
    "# Questions 3:\n",
    "'''The abc module in Python stands for \"Abstract Base Classes\". It is a built-in module that provides a way to define abstract base classes in Python.'''"
   ]
  },
  {
   "cell_type": "code",
   "execution_count": 14,
   "id": "12a239ec-500f-4981-ba17-2e269e2749a0",
   "metadata": {},
   "outputs": [
    {
     "data": {
      "text/plain": [
       "'In Python, abstraction can be achieved by having/using abstract classes and methods in our programs by using \"import abc\"'"
      ]
     },
     "execution_count": 14,
     "metadata": {},
     "output_type": "execute_result"
    }
   ],
   "source": [
    "# Question 4:\n",
    "'''In Python, abstraction can be achieved by having/using abstract classes and methods in our programs by using \"import abc\"'''"
   ]
  },
  {
   "cell_type": "code",
   "execution_count": 15,
   "id": "5437866b-a0a8-482b-9853-4ce6272e2f38",
   "metadata": {},
   "outputs": [
    {
     "data": {
      "text/plain": [
       "'No, we cannot create an instance of an abstract class in Python.\\n\\nAn abstract class is a class that contains one or more abstract methods. Abstract methods are methods that have no implementation and are meant to be overridden by concrete subclasses. Abstract classes cannot be instantiated directly, as they are incomplete and require concrete subclasses to implement the abstract methods.\\n\\nIf you try to create an instance of an abstract class in Python, you will get a TypeError with the message \"Can\\'t instantiate abstract class\".'"
      ]
     },
     "execution_count": 15,
     "metadata": {},
     "output_type": "execute_result"
    }
   ],
   "source": [
    "# Question 5:\n",
    "'''No, we cannot create an instance of an abstract class in Python.\n",
    "\n",
    "An abstract class is a class that contains one or more abstract methods. Abstract methods are methods that have no implementation and are meant to be overridden by concrete subclasses. Abstract classes cannot be instantiated directly, as they are incomplete and require concrete subclasses to implement the abstract methods.\n",
    "\n",
    "If you try to create an instance of an abstract class in Python, you will get a TypeError with the message \"Can't instantiate abstract class\".'''"
   ]
  }
 ],
 "metadata": {
  "kernelspec": {
   "display_name": "Python 3 (ipykernel)",
   "language": "python",
   "name": "python3"
  },
  "language_info": {
   "codemirror_mode": {
    "name": "ipython",
    "version": 3
   },
   "file_extension": ".py",
   "mimetype": "text/x-python",
   "name": "python",
   "nbconvert_exporter": "python",
   "pygments_lexer": "ipython3",
   "version": "3.10.8"
  }
 },
 "nbformat": 4,
 "nbformat_minor": 5
}
