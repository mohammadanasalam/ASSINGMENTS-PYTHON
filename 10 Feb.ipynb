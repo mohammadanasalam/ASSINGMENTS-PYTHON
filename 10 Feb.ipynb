{
 "cells": [
  {
   "cell_type": "code",
   "execution_count": 1,
   "id": "239f9ed1-5420-4520-b57b-f69fbeec8b19",
   "metadata": {},
   "outputs": [
    {
     "data": {
      "text/plain": [
       "\"In Python, the open() function is used to open a file.\\n\\nThe open() function takes two parameters: the first parameter is the name of the file to open, and the second parameter is the mode in which to open the file.\\n\\nThe different modes of opening a file in Python are:\\n\\n'r' (read mode): This mode is used to read the contents of a file. It is the default mode if no mode is specified. If the file does not exist in read mode, it will raise a FileNotFoundError exception.\\n\\n'w' (write mode): This mode is used to write to a file. If the file does not exist in write mode, it will create a new file. If the file already exists in write mode, it will overwrite the existing file with the new data.\\n\\n'a' (append mode): This mode is used to append data to an existing file. If the file does not exist in append mode, it will create a new file.\\n\\n'x' (exclusive creation mode): This mode is used to create a new file but will raise a FileExistsError if the file already exists.\\n\\n'b' (binary mode): This mode is used to read or write a file in binary mode.\\n\\n't' (text mode): This mode is used to read or write a file as a text file.\""
      ]
     },
     "execution_count": 1,
     "metadata": {},
     "output_type": "execute_result"
    }
   ],
   "source": [
    "# Question 1:\n",
    "'''In Python, the open() function is used to open a file.\n",
    "\n",
    "The open() function takes two parameters: the first parameter is the name of the file to open, and the second parameter is the mode in which to open the file.\n",
    "\n",
    "The different modes of opening a file in Python are:\n",
    "\n",
    "'r' (read mode): This mode is used to read the contents of a file. It is the default mode if no mode is specified. If the file does not exist in read mode, it will raise a FileNotFoundError exception.\n",
    "\n",
    "'w' (write mode): This mode is used to write to a file. If the file does not exist in write mode, it will create a new file. If the file already exists in write mode, it will overwrite the existing file with the new data.\n",
    "\n",
    "'a' (append mode): This mode is used to append data to an existing file. If the file does not exist in append mode, it will create a new file.\n",
    "\n",
    "'x' (exclusive creation mode): This mode is used to create a new file but will raise a FileExistsError if the file already exists.\n",
    "\n",
    "'b' (binary mode): This mode is used to read or write a file in binary mode.\n",
    "\n",
    "'t' (text mode): This mode is used to read or write a file as a text file.'''"
   ]
  },
  {
   "cell_type": "code",
   "execution_count": 2,
   "id": "85c416c4-5eb3-4dee-9638-d57ebc280bdd",
   "metadata": {},
   "outputs": [
    {
     "data": {
      "text/plain": [
       "\"In programming, the close() function is used to close a file that has been opened for reading, writing or both. When a file is closed, it releases any system resources associated with the file.\\n\\nIt is important to close a file because failing to do so can lead to a number of problems, such as:\\n\\n1.Resource leaks: If a program doesn't close a file, the system resources used by that file will not be released until the program ends. This can lead to resource leaks, where the program continues to consume more and more resources until it crashes or runs out of memory.\\n\\n2.Data loss: If a program doesn't close a file after writing data to it, the data may not be saved to disk. This is because data is often buffered in memory before it is written to disk. If the file is not closed, the buffered data may not be written to disk and could be lost if the program terminates unexpectedly.\\n\\n3.File corruption: If a program doesn't close a file after writing data to it, the file may become corrupted. This can happen if the program terminates unexpectedly while the file is still open, or if the program tries to access the file again before it has been properly closed.\\n\\n\\n\\n\\n\\n\""
      ]
     },
     "execution_count": 2,
     "metadata": {},
     "output_type": "execute_result"
    }
   ],
   "source": [
    "# Question 2:\n",
    "'''In programming, the close() function is used to close a file that has been opened for reading, writing or both. When a file is closed, it releases any system resources associated with the file.\n",
    "\n",
    "It is important to close a file because failing to do so can lead to a number of problems, such as:\n",
    "\n",
    "1.Resource leaks: If a program doesn't close a file, the system resources used by that file will not be released until the program ends. This can lead to resource leaks, where the program continues to consume more and more resources until it crashes or runs out of memory.\n",
    "\n",
    "2.Data loss: If a program doesn't close a file after writing data to it, the data may not be saved to disk. This is because data is often buffered in memory before it is written to disk. If the file is not closed, the buffered data may not be written to disk and could be lost if the program terminates unexpectedly.\n",
    "\n",
    "3.File corruption: If a program doesn't close a file after writing data to it, the file may become corrupted. This can happen if the program terminates unexpectedly while the file is still open, or if the program tries to access the file again before it has been properly closed.\n",
    "\n",
    "\n",
    "\n",
    "\n",
    "\n",
    "'''"
   ]
  },
  {
   "cell_type": "code",
   "execution_count": 3,
   "id": "96207414-17c4-4452-94da-d67c241c9514",
   "metadata": {},
   "outputs": [
    {
     "name": "stdout",
     "output_type": "stream",
     "text": [
      "I want to become a Data Scientist\n"
     ]
    }
   ],
   "source": [
    "# Question 3:\n",
    "# create a file named \"data_scientist.txt\" in write mode\n",
    "file = open(\"data_scientist.txt\", \"w\")\n",
    "\n",
    "# write the string \"I want to become a Data Scientist\" to the file\n",
    "file.write(\"I want to become a Data Scientist\")\n",
    "\n",
    "# close the file\n",
    "file.close()\n",
    "\n",
    "# open the file in read mode\n",
    "file = open(\"data_scientist.txt\", \"r\")\n",
    "\n",
    "# read the contents of the file\n",
    "content = file.read()\n",
    "\n",
    "# print the contents of the file\n",
    "print(content)\n",
    "\n",
    "# close the file\n",
    "file.close()"
   ]
  },
  {
   "cell_type": "code",
   "execution_count": 6,
   "id": "42f275c2-d285-4eb7-a393-b1f3224b44a4",
   "metadata": {},
   "outputs": [
    {
     "data": {
      "text/plain": [
       "\"2. readline() method:\\nThe readline() method reads a single line from the file and returns it as a string. Each time you call readline(), it reads the next line from the file. Here's an example:\""
      ]
     },
     "execution_count": 6,
     "metadata": {},
     "output_type": "execute_result"
    }
   ],
   "source": [
    "# Question 4 :\n",
    "'''read(), readline(), and readlines() are methods in Python that allow you to read data from a file. Here's an explanation of each method with Python code examples:\n",
    "\n",
    "1.read() method:\n",
    "The read() method reads the entire content of the file and returns it as a string. Here's an example:'''\n",
    "# file = open(\"example_file\", \"r\")\n",
    "# content_file = file.read()\n",
    "# print(content_file)\n",
    "# file.close()\n",
    "\n",
    "'''2. readline() method:\n",
    "The readline() method reads a single line from the file and returns it as a string. Each time you call readline(), it reads the next line from the file. Here's an example:'''\n",
    "\n",
    "# file = open(\"example_file\", \"r\")\n",
    "# line1 =  file.readline()\n",
    "# line2 =  file.readline()\n",
    "# print(line1)\n",
    "# print(line2)\n",
    "# file.close()\n",
    "\n",
    "'''3. The readlines() method reads all the lines of the file and returns them as a list of strings. Each element of the list represents a single line from the file. Here's an example'''\n",
    "# file = open(\"example_file\", \"r\")\n",
    "# lines = file.readlines()\n",
    "# for line in lines:\n",
    "#     print(line)\n",
    "# file.close()"
   ]
  },
  {
   "cell_type": "code",
   "execution_count": 14,
   "id": "8c01670d-e8a7-43f7-a6e7-841145cefc84",
   "metadata": {},
   "outputs": [
    {
     "name": "stdout",
     "output_type": "stream",
     "text": [
      "my name is mohammad anas alam and I am from Rourkela which is city in Odisha \n"
     ]
    }
   ],
   "source": [
    "# example_file = \"my name is mohammad anas alam and I am from Rourkela which is city in Odisha \"\n",
    "file = open(\"example_file\", \"w\")\n",
    "file.write(\"my name is mohammad anas alam and I am from Rourkela which is city in Odisha \") \n",
    "file.close()\n",
    "\n",
    "file = open(\"example_file\", \"r\")\n",
    "lines = file.readlines()\n",
    "for line in lines:\n",
    "    print(line)\n",
    "file.close()\n",
    "\n",
    "# file = open(\"example_file\", \"r\")\n",
    "# content_file = file.read()\n",
    "# print(content_file)\n",
    "# file.close()\n"
   ]
  },
  {
   "cell_type": "code",
   "execution_count": 15,
   "id": "d9f75d68-5dba-4d3f-9362-25e8ea957868",
   "metadata": {},
   "outputs": [
    {
     "data": {
      "text/plain": [
       "'The with statement in Python is used in conjunction with the open() function to open a file and ensure that it is properly closed after it has been used. The open() function is used to create a file object and return a corresponding file descriptor that can be used to read or write to the file.\\n\\nThe with statement provides a block of code to be executed with a context, which typically includes the initialization of resources and the subsequent cleanup of those resources when the block is exited. In the case of file I/O, using with ensures that the file is closed when the block is exited, even if an exception is raised.\\n\\nThe advantage of using with and open() together is that it makes file I/O code cleaner and more concise, while also providing an added layer of safety. Without the with statement, the programmer would need to remember to manually close the file using the close() method, which can be forgotten or overlooked in the midst of a larger program. The with statement, on the other hand, takes care of closing the file automatically, making it more difficult to introduce bugs or errors due to incorrect file handling.'"
      ]
     },
     "execution_count": 15,
     "metadata": {},
     "output_type": "execute_result"
    }
   ],
   "source": [
    "# Question 5 :\n",
    "'''The with statement in Python is used in conjunction with the open() function to open a file and ensure that it is properly closed after it has been used. The open() function is used to create a file object and return a corresponding file descriptor that can be used to read or write to the file.\n",
    "\n",
    "The with statement provides a block of code to be executed with a context, which typically includes the initialization of resources and the subsequent cleanup of those resources when the block is exited. In the case of file I/O, using with ensures that the file is closed when the block is exited, even if an exception is raised.\n",
    "\n",
    "The advantage of using with and open() together is that it makes file I/O code cleaner and more concise, while also providing an added layer of safety. Without the with statement, the programmer would need to remember to manually close the file using the close() method, which can be forgotten or overlooked in the midst of a larger program. The with statement, on the other hand, takes care of closing the file automatically, making it more difficult to introduce bugs or errors due to incorrect file handling.'''"
   ]
  },
  {
   "cell_type": "code",
   "execution_count": null,
   "id": "8a58f540-9229-4ced-a0c5-8780a439219c",
   "metadata": {},
   "outputs": [],
   "source": [
    "# Question 6:\n",
    "'''The write() and writelines() functions are used for writing data to a file in Python.'''\n",
    "'''The write() function is used to write a string to a file. It takes a single argument, which is the string to be written, and returns the number of characters written to the file.\n",
    "\n",
    "Here's an example of using the write() function to write a string to a file:'''\n",
    "\n",
    "# Open file for writing\n",
    "# with open('example.txt', 'w') as f:\n",
    "#     # Write a string to the file\n",
    "#     f.write('Hello, world!\\n')\n",
    "\n",
    "'''The writelines() function, on the other hand, is used to write a sequence of strings to a file. It takes a single argument, which is a sequence (such as a list or tuple) of strings to be written to the file. Each string in the sequence is written to the file on a separate line.\n",
    "\n",
    "Here's an example of using the writelines() function to write a list of strings to a file:'''\n",
    "\n",
    "# Open file for writing\n",
    "# with open('example.txt', 'w') as f:\n",
    "#     # Write a list of strings to the file\n",
    "#     f.writelines(['Line 1\\n', 'Line 2\\n', 'Line 3\\n'])\n"
   ]
  }
 ],
 "metadata": {
  "kernelspec": {
   "display_name": "Python 3 (ipykernel)",
   "language": "python",
   "name": "python3"
  },
  "language_info": {
   "codemirror_mode": {
    "name": "ipython",
    "version": 3
   },
   "file_extension": ".py",
   "mimetype": "text/x-python",
   "name": "python",
   "nbconvert_exporter": "python",
   "pygments_lexer": "ipython3",
   "version": "3.10.8"
  }
 },
 "nbformat": 4,
 "nbformat_minor": 5
}
