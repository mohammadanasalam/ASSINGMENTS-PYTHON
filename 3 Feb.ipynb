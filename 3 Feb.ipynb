{
 "cells": [
  {
   "cell_type": "code",
   "execution_count": 17,
   "id": "f56e8a60-9763-4ba2-a541-b9b5837880ed",
   "metadata": {},
   "outputs": [
    {
     "data": {
      "text/plain": [
       "[1, 3, 5, 7, 9, 11, 13, 15, 17, 19, 21, 23, 25]"
      ]
     },
     "execution_count": 17,
     "metadata": {},
     "output_type": "execute_result"
    }
   ],
   "source": [
    "# Q1. Which keyword is used to create a function? Create a function to return a list of odd numbers in the range 1 to 25\n",
    "\"\"\"def keyword is used to creat a function.\"\"\"\n",
    "list = []\n",
    "def test():\n",
    "    for  i in range(1, 26):\n",
    "        if ((i%2) == 1):\n",
    "            list.append(i)\n",
    "    return list\n",
    "test()"
   ]
  },
  {
   "cell_type": "code",
   "execution_count": 20,
   "id": "8ee8ef12-0d16-46c6-ab0f-64915051b065",
   "metadata": {},
   "outputs": [
    {
     "data": {
      "text/plain": [
       "'*args and **kwargs are used in functions when the number of arguments that a function needs to accept is unknown or variable.\\n\\n*args allows a function to accept an arbitrary number of non-keyword arguments, which are then passed to the function as a tuple.\\n\\n**kwargs allows a function to accept an arbitrary number of keyword arguments, which are then passed to the function as a dictionary.'"
      ]
     },
     "execution_count": 20,
     "metadata": {},
     "output_type": "execute_result"
    }
   ],
   "source": [
    "# Q2. Why *args and **kwargs is used in some functions?\n",
    "'''*args and **kwargs are used in functions when the number of arguments that a function needs to accept is unknown or variable.\n",
    "\n",
    "*args allows a function to accept an arbitrary number of non-keyword arguments, which are then passed to the function as a tuple.\n",
    "\n",
    "**kwargs allows a function to accept an arbitrary number of keyword arguments, which are then passed to the function as a dictionary.'''\n"
   ]
  },
  {
   "cell_type": "code",
   "execution_count": 25,
   "id": "d8219ee1-6885-461b-9772-a83576685b7f",
   "metadata": {},
   "outputs": [
    {
     "data": {
      "text/plain": [
       "tuple"
      ]
     },
     "execution_count": 25,
     "metadata": {},
     "output_type": "execute_result"
    }
   ],
   "source": [
    "# example of * args\n",
    "def test1(*args):\n",
    "    return args\n",
    "test1(1, 2, 3, 4, 5, 6)\n",
    "type(test1(1, 2, 3, 4, 5, 6))"
   ]
  },
  {
   "cell_type": "code",
   "execution_count": 33,
   "id": "0c80f99a-0625-4d88-9a17-b60648f9d6d5",
   "metadata": {},
   "outputs": [
    {
     "data": {
      "text/plain": [
       "{'a': 1, 'b': 2, 'c': 'anas', 'd': 'physicswallah'}"
      ]
     },
     "execution_count": 33,
     "metadata": {},
     "output_type": "execute_result"
    }
   ],
   "source": [
    "# Examples of * kwargs\n",
    "def test2 (**kwarg):\n",
    "    return kwarg\n",
    "test2(a = 1, b= 2, c =\"anas\", d = \"physicswallah\")"
   ]
  },
  {
   "cell_type": "code",
   "execution_count": 24,
   "id": "ccc9c81c-fce4-4449-914c-73a5006cf2c0",
   "metadata": {},
   "outputs": [
    {
     "name": "stdout",
     "output_type": "stream",
     "text": [
      "0\n",
      "1\n",
      "1\n",
      "2\n",
      "3\n",
      "5\n",
      "8\n",
      "13\n",
      "21\n",
      "34\n"
     ]
    }
   ],
   "source": [
    "# Q6. Write a python program to print the first 10 Fibonacci numbers using a while loop.\n",
    "a , b = 0 , 1\n",
    "counter = 0\n",
    "while counter < 10:\n",
    "    print(a)\n",
    "    c = a+b\n",
    "    a = b\n",
    "    b = c \n",
    "    counter = counter +1\n",
    "    "
   ]
  },
  {
   "cell_type": "code",
   "execution_count": 1,
   "id": "ed0d77a8-9ba5-4ec2-8a60-d131ed072157",
   "metadata": {},
   "outputs": [
    {
     "data": {
      "text/plain": [
       "\"The method 'iter()' is used to initialize the iterator object and the method 'next()' is used for iteration\""
      ]
     },
     "execution_count": 1,
     "metadata": {},
     "output_type": "execute_result"
    }
   ],
   "source": [
    "# Q3. What is an iterator in python? Name the method used to initialise the iterator object and the method\n",
    "# used for iteration. Use these methods to print the first five elements of the given list [2, 4, 6, 8, 10, 12, 14,\n",
    "# 16, 18, 20].\n",
    "'''An iterator is used to iterate over a sequence or container, such as a list, tuple, dictionary, or set, by providing a way to access each item in the sequence in turn.'''\n",
    "'''The method 'iter()' is used to initialize the iterator object and the method 'next()' is used for iteration'''\n"
   ]
  },
  {
   "cell_type": "code",
   "execution_count": 14,
   "id": "f23f8607-4800-47cd-bda2-c07af5f1e7e8",
   "metadata": {},
   "outputs": [
    {
     "data": {
      "text/plain": [
       "2"
      ]
     },
     "execution_count": 14,
     "metadata": {},
     "output_type": "execute_result"
    }
   ],
   "source": [
    "list = [2, 4, 6, 8, 10, 12, 14, 16, 18, 20]\n",
    "a =iter(list)\n",
    "next(a)"
   ]
  },
  {
   "cell_type": "code",
   "execution_count": 15,
   "id": "5bf64f3f-2325-4221-b963-365cbe34cb12",
   "metadata": {},
   "outputs": [
    {
     "data": {
      "text/plain": [
       "4"
      ]
     },
     "execution_count": 15,
     "metadata": {},
     "output_type": "execute_result"
    }
   ],
   "source": [
    "next(a)"
   ]
  },
  {
   "cell_type": "code",
   "execution_count": 16,
   "id": "64702d6e-cdd7-48f7-8b88-c38101cb2fd9",
   "metadata": {},
   "outputs": [
    {
     "data": {
      "text/plain": [
       "6"
      ]
     },
     "execution_count": 16,
     "metadata": {},
     "output_type": "execute_result"
    }
   ],
   "source": [
    "next(a)"
   ]
  },
  {
   "cell_type": "code",
   "execution_count": 17,
   "id": "1b697633-6a86-4a65-a6c7-8db11e151213",
   "metadata": {},
   "outputs": [
    {
     "data": {
      "text/plain": [
       "8"
      ]
     },
     "execution_count": 17,
     "metadata": {},
     "output_type": "execute_result"
    }
   ],
   "source": [
    "next(a)"
   ]
  },
  {
   "cell_type": "code",
   "execution_count": 18,
   "id": "ca6e3847-148b-4bf1-9906-d05ac2fea1b5",
   "metadata": {},
   "outputs": [
    {
     "data": {
      "text/plain": [
       "10"
      ]
     },
     "execution_count": 18,
     "metadata": {},
     "output_type": "execute_result"
    }
   ],
   "source": [
    "next(a)"
   ]
  },
  {
   "cell_type": "code",
   "execution_count": 22,
   "id": "674830ac-24a6-433a-add3-566dec64673d",
   "metadata": {},
   "outputs": [
    {
     "data": {
      "text/plain": [
       "'A generator function in Python is a special type of function that returns an iterator, which generates a series of values on-the-fly. Unlike a regular function that returns a value and then terminates, a generator function can pause and resume execution, allowing it to produce a sequence of values as needed, which is more efficient for large data sets.\\nThe \"yield\" keyword is like a \"return\" statement, but it doesn\\'t terminate the function, instead, it suspends it until the next value is requested.'"
      ]
     },
     "execution_count": 22,
     "metadata": {},
     "output_type": "execute_result"
    }
   ],
   "source": [
    "# Q4. What is a generator function in python? Why yield keyword is used?\n",
    "'''A generator function in Python is a special type of function that returns an iterator, which generates a series of values on-the-fly. Unlike a regular function that returns a value and then terminates, a generator function can pause and resume execution, allowing it to produce a sequence of values as needed, which is more efficient for large data sets.\n",
    "The \"yield\" keyword is like a \"return\" statement, but it doesn't terminate the function, instead, it suspends it until the next value is requested.'''"
   ]
  },
  {
   "cell_type": "code",
   "execution_count": 26,
   "id": "431e1dc5-9093-4aba-be31-b3492b42291a",
   "metadata": {},
   "outputs": [
    {
     "name": "stdout",
     "output_type": "stream",
     "text": [
      "1\n",
      "2\n",
      "3\n",
      "4\n",
      "5\n",
      "6\n",
      "7\n",
      "8\n",
      "9\n",
      "10\n"
     ]
    }
   ],
   "source": [
    "# Example of generator fuction.\n",
    "def count_upto(n):\n",
    "    a = 1\n",
    "    while a <= n:\n",
    "        yield a \n",
    "        a = a+1\n",
    "for i in count_upto(10):\n",
    "    print (i)"
   ]
  },
  {
   "cell_type": "code",
   "execution_count": 23,
   "id": "fee86654-28c0-467d-a4c6-62870648d959",
   "metadata": {},
   "outputs": [],
   "source": [
    "# Q5. Create a generator function for prime numbers less than 1000. Use the next() method to print the first 20 prime number.\n",
    "def primes_gen():\n",
    "    # initialize a list of prime numbers\n",
    "    primes = []\n",
    "    # start checking for prime numbers from 2\n",
    "    num = 2\n",
    "    while num < 1000:\n",
    "        # check if the number is divisible by any number other than 1 and itself\n",
    "        is_prime = True\n",
    "        for prime in primes:\n",
    "            if num % prime == 0:\n",
    "                is_prime = False\n",
    "                break\n",
    "        if is_prime:\n",
    "            primes.append(num)\n",
    "            yield num\n",
    "        num += 1\n",
    "\n",
    "for prime in primes_gen():\n",
    "    print(prime)\n",
    "iterable = iter(prime)\n",
    "next(iterable)"
   ]
  },
  {
   "cell_type": "code",
   "execution_count": 25,
   "id": "e588b9ee-f443-42bd-8895-82a27920592a",
   "metadata": {},
   "outputs": [
    {
     "data": {
      "text/plain": [
       "['p', 'w', 's', 'k', 'i', 'l', 'l', 's']"
      ]
     },
     "execution_count": 25,
     "metadata": {},
     "output_type": "execute_result"
    }
   ],
   "source": [
    "# Q7. Write a List Comprehension to iterate through the given string: ‘pwskills’.\n",
    "# Expected output: ['p', 'w', 's', 'k', 'i', 'l', 'l', 's']\n",
    "l = \"pwskills\"\n",
    "list(i for i in l)"
   ]
  },
  {
   "cell_type": "code",
   "execution_count": 38,
   "id": "22b851f1-493b-4544-b80a-605802ea650b",
   "metadata": {},
   "outputs": [
    {
     "name": "stdout",
     "output_type": "stream",
     "text": [
      "777654321\n",
      "Not palindrome\n"
     ]
    }
   ],
   "source": [
    "num = '123456777'\n",
    "num_1 = num[::-1]\n",
    "print(num_1)\n",
    "if num == num_1:\n",
    "    print(\"Your number is plindrome\")\n",
    "else : \n",
    "    print(\"Not palindrome\")"
   ]
  },
  {
   "cell_type": "code",
   "execution_count": 41,
   "id": "ba69ffa0-c5cd-4e4c-be36-e0a1d798f370",
   "metadata": {},
   "outputs": [],
   "source": [
    "# list comprehension to create a list from 1 to 100\n",
    "[i for i in range(1, 101)]"
   ]
  },
  {
   "cell_type": "code",
   "execution_count": 2,
   "id": "3e9f0c72-842b-4a4a-b153-65cc874c4b98",
   "metadata": {},
   "outputs": [],
   "source": [
    "# List comprehension to filter out odd numbers\n",
    "[i for i in range(2, 100) if i%2 != 0]"
   ]
  },
  {
   "cell_type": "code",
   "execution_count": null,
   "id": "ab08203e-56e1-4b7b-a89e-c51febfceae0",
   "metadata": {},
   "outputs": [],
   "source": []
  }
 ],
 "metadata": {
  "kernelspec": {
   "display_name": "Python 3 (ipykernel)",
   "language": "python",
   "name": "python3"
  },
  "language_info": {
   "codemirror_mode": {
    "name": "ipython",
    "version": 3
   },
   "file_extension": ".py",
   "mimetype": "text/x-python",
   "name": "python",
   "nbconvert_exporter": "python",
   "pygments_lexer": "ipython3",
   "version": "3.10.8"
  }
 },
 "nbformat": 4,
 "nbformat_minor": 5
}
