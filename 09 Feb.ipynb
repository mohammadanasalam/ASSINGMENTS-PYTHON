{
 "cells": [
  {
   "cell_type": "code",
   "execution_count": 2,
   "id": "13bd67a8-959d-46c0-a415-c357dcf380bf",
   "metadata": {},
   "outputs": [],
   "source": [
    "# Q1, Create a vehicle class with an init method having instance variables as name_of_vehicle, max_speed and average_of_vehicle.\n",
    "class Vehicle:\n",
    "    def __init__(self, name_of_vehicle, max_speed, average_of_vehicle):\n",
    "        self.name_of_vehicle = name_of_vehicle\n",
    "        self.max_speed = max_speed\n",
    "        self.average_of_vehicle = average_of_vehicle"
   ]
  },
  {
   "cell_type": "code",
   "execution_count": 3,
   "id": "9696dbbc-0d5b-476c-986c-cf67ec1b4ad0",
   "metadata": {},
   "outputs": [],
   "source": [
    "# Q2. Create a child class car from the vehicle class created in Que 1, which will inherit the vehicle class.\n",
    "# Create a method named seating_capacity which takes capacity as an argument and returns the name of\n",
    "# the vehicle and its seating capacity.\n",
    "class Vehicle:\n",
    "    def __init__(self, name_of_vehicle, max_speed, average_of_vehicle):\n",
    "        self.name_of_vehicle = name_of_vehicle\n",
    "        self.max_speed = max_speed\n",
    "        self.average_of_vehicle = average_of_vehicle\n",
    "\n",
    "class Car(Vehicle):\n",
    "    def __init__(self, name_of_vehicle, max_speed, average_of_vehicle):\n",
    "        super().__init__(name_of_vehicle, max_speed, average_of_vehicle)\n",
    "\n",
    "    def seating_capacity(self, capacity):\n",
    "        return f\"{self.name_of_vehicle} has a seating capacity of {capacity} people.\""
   ]
  },
  {
   "cell_type": "code",
   "execution_count": 4,
   "id": "73459165-de73-4a92-b1c2-2d20925441d8",
   "metadata": {},
   "outputs": [],
   "source": [
    "# Q3. What is multiple inheritance? Write a python code to demonstrate multiple inheritance.\n",
    "'''\n",
    "Multiple inheritance in object-oriented programming is a concept where a class can inherit attributes and methods from more than one parent class. This allows a child class to inherit and combine the characteristics of multiple parent classes.\n",
    "\n",
    "Here's a Python code example that demonstrates multiple inheritance:'''\n",
    "\n",
    "# Parent class 1\n",
    "class Bird:\n",
    "    def __init__(self, name):\n",
    "        self.name = name\n",
    "\n",
    "    def speak(self):\n",
    "        return f\"{self.name} can chirp.\"\n",
    "\n",
    "# Parent class 2\n",
    "class Mammal:\n",
    "    def __init__(self, name):\n",
    "        self.name = name\n",
    "\n",
    "    def speak(self):\n",
    "        return f\"{self.name} can make mammal sounds.\"\n",
    "\n",
    "# Child class inheriting from both Bird and Mammal\n",
    "class Bat(Bird, Mammal):\n",
    "    def __init__(self, name):\n",
    "        # Call constructors of both parent classes\n",
    "        Bird.__init__(self, name)\n",
    "        Mammal.__init__(self, name)\n",
    "\n",
    "    def speak(self):\n",
    "        bird_sound = Bird.speak(self)\n",
    "        mammal_sound = Mammal.speak(self)\n",
    "        return f\"{self.name} is a bat. {bird_sound} {mammal_sound}\""
   ]
  },
  {
   "cell_type": "code",
   "execution_count": null,
   "id": "f24b0c4f-aba1-4890-bbc8-8e2b1ab85aa9",
   "metadata": {},
   "outputs": [],
   "source": [
    "# Q4. What are getter and setter in python? Create a class and create a getter and a setter method in this\n",
    "# class.\n",
    "In Python, getters and setters are methods used to control access to an object's attributes. They are a form of encapsulation that allows you to define how data should be accessed and modified within a class. Getters are used to retrieve the value of an attribute, and setters are used to modify the value of an attribute while applying some validation or logic.\n",
    "\n",
    "Here's an example of a class with a getter and a setter method:'''\n",
    "class Person:\n",
    "    def __init__(self, name, age):\n",
    "        self._name = name  # Private attribute with a leading underscore\n",
    "        self._age = age\n",
    "\n",
    "    # Getter method for 'name'\n",
    "    def get_name(self):\n",
    "        return self._name\n",
    "\n",
    "    # Setter method for 'name'\n",
    "    def set_name(self, name):\n",
    "        if len(name) <= 50:  # Example validation: Name length should be less than or equal to 50 characters\n",
    "            self._name = name\n",
    "        else:\n",
    "            print(\"Name is too long.\")\n",
    "\n",
    "    # Getter method for 'age'\n",
    "    def get_age(self):\n",
    "        return self._age\n",
    "\n",
    "    # Setter method for 'age'\n",
    "    def set_age(self, age):\n",
    "        if 0 <= age <= 150:  # Example validation: Age should be between 0 and 150\n",
    "            self._age = age\n",
    "        else:\n",
    "            print(\"Invalid age.\")"
   ]
  }
 ],
 "metadata": {
  "kernelspec": {
   "display_name": "Python 3 (ipykernel)",
   "language": "python",
   "name": "python3"
  },
  "language_info": {
   "codemirror_mode": {
    "name": "ipython",
    "version": 3
   },
   "file_extension": ".py",
   "mimetype": "text/x-python",
   "name": "python",
   "nbconvert_exporter": "python",
   "pygments_lexer": "ipython3",
   "version": "3.10.8"
  }
 },
 "nbformat": 4,
 "nbformat_minor": 5
}
