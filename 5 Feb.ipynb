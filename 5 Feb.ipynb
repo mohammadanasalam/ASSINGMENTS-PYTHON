{
 "cells": [
  {
   "cell_type": "code",
   "execution_count": null,
   "id": "79deb1fa-5522-4b23-b21b-0e441c11bfd6",
   "metadata": {},
   "outputs": [],
   "source": [
    "# QUESTION 1:\n",
    "''' A class is a blueprint or template that defines the attributes and methods that objects will have, while an object is a specific instance of a class that has its own unique set of attribute values and method behaviors.'''\n",
    "# Example;\n",
    "'''Class: Employee\n",
    "Attributes: name, id, salary, department\n",
    "Methods: promote, hire, terminate\n",
    "Object: myEmployee\n",
    "Attribute values: name=Jane Smith, id=101, salary=$60,000, department=Marketing'''"
   ]
  },
  {
   "cell_type": "code",
   "execution_count": 3,
   "id": "be85cc51-38a3-45ce-b85d-daa6eaf3e182",
   "metadata": {},
   "outputs": [
    {
     "data": {
      "text/plain": [
       "\"The four pillars of object-oriented programming are:\\n\\nEncapsulation - bundling of data and methods that manipulate that data, and restricting access to an object's internal state from the outside.\\n\\nInheritance - creating new classes from existing ones, inheriting attributes and methods, and adding new ones.\\n\\nPolymorphism - using a single interface to represent different types of objects, or using a single method to perform different tasks depending on the context.\\n\\nAbstraction - representing complex real-world objects using simplified models, by hiding the unnecessary details and exposing only the essential features.\""
      ]
     },
     "execution_count": 3,
     "metadata": {},
     "output_type": "execute_result"
    }
   ],
   "source": [
    "# QUESTION 2:\n",
    "'''The four pillars of object-oriented programming are:\n",
    "\n",
    "Encapsulation - bundling of data and methods that manipulate that data, and restricting access to an object's internal state from the outside.\n",
    "\n",
    "Inheritance - creating new classes from existing ones, inheriting attributes and methods, and adding new ones.\n",
    "\n",
    "Polymorphism - using a single interface to represent different types of objects, or using a single method to perform different tasks depending on the context.\n",
    "\n",
    "Abstraction - representing complex real-world objects using simplified models, by hiding the unnecessary details and exposing only the essential features.'''"
   ]
  },
  {
   "cell_type": "code",
   "execution_count": 4,
   "id": "9a792897-73c7-46b3-bd77-95a35116e67e",
   "metadata": {},
   "outputs": [
    {
     "data": {
      "text/plain": [
       "'In object-oriented programming, the \"self\" keyword is used to refer to the instance of a class that is being manipulated. It is a reference to the current object, and it allows us to access the attributes and methods of that object.'"
      ]
     },
     "execution_count": 4,
     "metadata": {},
     "output_type": "execute_result"
    }
   ],
   "source": [
    "# QUESTION 3\n",
    "'''In object-oriented programming, the \"self\" keyword is used to refer to the instance of a class that is being manipulated. It is a reference to the current object, and it allows us to access the attributes and methods of that object.'''"
   ]
  },
  {
   "cell_type": "code",
   "execution_count": null,
   "id": "3517c2e8-4b16-43cb-98d0-f5476f83a41c",
   "metadata": {},
   "outputs": [],
   "source": [
    "# QUESTION 4:\n",
    "'''Inheritance is a key concept in object-oriented programming that allows new classes to be built from existing ones, inheriting their attributes and methods. It enables code reuse and promotes a hierarchical organization of code.\n",
    "\n",
    "There are four types of inheritance in object-oriented programming:\n",
    "\n",
    "Single inheritance: When a subclass inherits from only one superclass. For example, class \"Car\" can be a superclass, and class \"SportsCar\" can inherit from \"Car\".\n",
    "\n",
    "Multilevel inheritance: When a subclass is derived from another subclass. For example, class \"Vehicle\" can be a superclass, and \"Car\" can inherit from \"Vehicle\", and then \"SportsCar\" can inherit from \"Car\".\n",
    "\n",
    "Hierarchical inheritance: When more than one subclass is derived from a single superclass. For example, class \"Animal\" can be a superclass, and \"Dog\" and \"Cat\" can both inherit from \"Animal\".\n",
    "\n",
    "Multiple inheritance: When a subclass inherits from more than one superclass. For example, class \"Athlete\" can be a superclass, and class \"Student\" can be a superclass, and class \"SportsStudent\" can inherit from both \"Athlete\" and \"Student\".'''"
   ]
  }
 ],
 "metadata": {
  "kernelspec": {
   "display_name": "Python 3 (ipykernel)",
   "language": "python",
   "name": "python3"
  },
  "language_info": {
   "codemirror_mode": {
    "name": "ipython",
    "version": 3
   },
   "file_extension": ".py",
   "mimetype": "text/x-python",
   "name": "python",
   "nbconvert_exporter": "python",
   "pygments_lexer": "ipython3",
   "version": "3.10.8"
  }
 },
 "nbformat": 4,
 "nbformat_minor": 5
}
