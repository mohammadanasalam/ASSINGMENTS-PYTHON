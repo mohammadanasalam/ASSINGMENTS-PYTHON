{
 "cells": [
  {
   "cell_type": "code",
   "execution_count": 2,
   "id": "d44704c0-1b47-427d-8e7a-1eae6bb6f56b",
   "metadata": {},
   "outputs": [
    {
     "name": "stdout",
     "output_type": "stream",
     "text": [
      "Requirement already satisfied: pandas in /opt/conda/lib/python3.10/site-packages (1.5.2)\n",
      "Requirement already satisfied: python-dateutil>=2.8.1 in /opt/conda/lib/python3.10/site-packages (from pandas) (2.8.2)\n",
      "Requirement already satisfied: pytz>=2020.1 in /opt/conda/lib/python3.10/site-packages (from pandas) (2022.6)\n",
      "Requirement already satisfied: numpy>=1.21.0 in /opt/conda/lib/python3.10/site-packages (from pandas) (1.23.5)\n",
      "Requirement already satisfied: six>=1.5 in /opt/conda/lib/python3.10/site-packages (from python-dateutil>=2.8.1->pandas) (1.16.0)\n",
      "Note: you may need to restart the kernel to use updated packages.\n"
     ]
    }
   ],
   "source": [
    "pip install pandas"
   ]
  },
  {
   "cell_type": "code",
   "execution_count": 3,
   "id": "da6fb84b-d631-4177-9dc3-7098ab443b07",
   "metadata": {},
   "outputs": [],
   "source": [
    "import pandas as pd"
   ]
  },
  {
   "cell_type": "code",
   "execution_count": 9,
   "id": "8e9663fa-284d-4ab1-a3ca-3bdd62f86d13",
   "metadata": {},
   "outputs": [],
   "source": [
    "#Q1. Create a Pandas Series that contains the following data: 4, 8, 15, 16, 23, and 42. Then, print the series.\n",
    "df1 = pd.read_csv(\"kklm.csv\")"
   ]
  },
  {
   "cell_type": "code",
   "execution_count": 12,
   "id": "32047496-4e67-45b3-92b0-fafc2998d177",
   "metadata": {},
   "outputs": [
    {
     "data": {
      "text/plain": [
       "0     4\n",
       "1     8\n",
       "2    15\n",
       "3    16\n",
       "4    23\n",
       "5    52\n",
       "Name: data, dtype: int64"
      ]
     },
     "execution_count": 12,
     "metadata": {},
     "output_type": "execute_result"
    }
   ],
   "source": [
    "df1['data']"
   ]
  },
  {
   "cell_type": "code",
   "execution_count": 14,
   "id": "1c1e22dd-2aea-43e3-94ba-1afff138764b",
   "metadata": {},
   "outputs": [
    {
     "name": "stdout",
     "output_type": "stream",
     "text": [
      "0     1\n",
      "1     2\n",
      "2     3\n",
      "3     4\n",
      "4     5\n",
      "5     6\n",
      "6     7\n",
      "7     8\n",
      "8     9\n",
      "9    10\n",
      "dtype: int64\n"
     ]
    }
   ],
   "source": [
    "# Q2. Create a variable of list type containing 10 elements in it, and apply pandas.Series function on the\n",
    "#variable print it.\n",
    "# Create a list with 10 elements\n",
    "my_list = [1, 2, 3, 4, 5, 6, 7, 8, 9, 10]\n",
    "\n",
    "# Convert the list into a pandas Series\n",
    "my_series = pd.Series(my_list)\n",
    "\n",
    "# Print the Series\n",
    "print(my_series)"
   ]
  },
  {
   "cell_type": "code",
   "execution_count": 17,
   "id": "aaf28bd8-5722-4d4c-9975-37bec3254b47",
   "metadata": {},
   "outputs": [
    {
     "name": "stdout",
     "output_type": "stream",
     "text": [
      "     name  age  gender\n",
      "0   Alice   25  Female\n",
      "1     Bob   30    Male\n",
      "2  Claire   27  Female\n"
     ]
    }
   ],
   "source": [
    "#Q3.Create a Pandas DataFrame that contains the following data:\n",
    "df2 = pd.read_csv(\"Data1.csv\")\n",
    "print(df2)"
   ]
  },
  {
   "cell_type": "code",
   "execution_count": 18,
   "id": "f7115122-b3d1-428b-84f0-33d7d4d5f6d6",
   "metadata": {},
   "outputs": [
    {
     "data": {
      "text/plain": [
       "\"`series_data` is a Series with one column 'A'. `df` is a DataFrame with two columns, 'A' and 'B', where each column is like a separate Series.\""
      ]
     },
     "execution_count": 18,
     "metadata": {},
     "output_type": "execute_result"
    }
   ],
   "source": [
    "# Q4. What is ‘DataFrame’ in pandas and how is it different from pandas.series? Explain with an example.\n",
    "'''Sure, here's a shorter explanation:\n",
    "\n",
    "- **DataFrame**: It's a two-dimensional table-like data structure in pandas with rows and columns. Each column can have a different data type. Think of it like a spreadsheet or SQL table.\n",
    "\n",
    "- **Series**: It's a one-dimensional labeled array, essentially a single column of data in a DataFrame. It has a label for each element, called the index.\n",
    "\n",
    "Example:'''\n",
    "\n",
    "import pandas as pd\n",
    "\n",
    "# Series\n",
    "series_data = pd.Series([10, 20, 30, 40, 50], name='A')\n",
    "\n",
    "# DataFrame\n",
    "data = {'A': [10, 20, 30, 40, 50], 'B': [5, 15, 25, 35, 45]}\n",
    "df = pd.DataFrame(data)\n",
    "\n",
    "\n",
    "'''`series_data` is a Series with one column 'A'. `df` is a DataFrame with two columns, 'A' and 'B', where each column is like a separate Series.'''"
   ]
  },
  {
   "cell_type": "code",
   "execution_count": null,
   "id": "4c345f07-940c-4771-bd0b-217c6cf08925",
   "metadata": {},
   "outputs": [],
   "source": [
    "#Q5. What are some common functions you can use to manipulate data in a Pandas DataFrame? Can\n",
    "#you give an example of when you might use one of these functions?\n",
    "'''Certainly, here's a concise summary of common DataFrame manipulation functions in pandas with an example:\n",
    "\n",
    "1. **Filtering Rows**:\n",
    "   - Use `DataFrame.loc[]` or `DataFrame.iloc[]` to select specific rows.\n",
    "\n",
    "2. **Selecting Columns**:\n",
    "   - Access a column using `DataFrame['ColumnName']`.\n",
    "\n",
    "3. **Sorting Data**:\n",
    "   - Sort data with `DataFrame.sort_values()`.\n",
    "\n",
    "4. **Grouping and Aggregation**:\n",
    "   - Group and aggregate using `DataFrame.groupby()`.\n",
    "\n",
    "5. **Merging Data**:\n",
    "   - Merge two DataFrames using `pd.merge()`.\n",
    "\n",
    "6. **Pivot Tables**:\n",
    "   - Create pivot tables with `pd.pivot_table()`.\n",
    "\n",
    "7. **Handling Missing Data**:\n",
    "   - Drop or fill missing values with `DataFrame.dropna()` and `DataFrame.fillna()`.\n",
    "\n",
    "8. **Adding and Removing Columns**:\n",
    "   - Add new columns and remove existing ones.\n",
    "\n",
    "Examples:'''\n",
    "import pandas as pd\n",
    "\n",
    "# Create a DataFrame\n",
    "data = {'Name': ['Alice', 'Bob', 'Charlie'],\n",
    "        'Age': [25, 30, 22]}\n",
    "df = pd.DataFrame(data)\n",
    "\n",
    "# Filter rows where 'Age' is greater than 25\n",
    "filtered_df = df[df['Age'] > 25]\n",
    "\n",
    "# Select the 'Name' column\n",
    "names = df['Name']\n",
    "\n",
    "# Sort the DataFrame by 'Age' in ascending order\n",
    "sorted_df = df.sort_values(by='Age')\n",
    "\n",
    "# Group by 'Age' and calculate the mean\n",
    "age_mean = df.groupby('Age').mean()\n",
    "\n",
    "# Merge two DataFrames\n",
    "merged_df = pd.merge(df1, df2, on='ID')\n",
    "\n",
    "# Create a pivot table\n",
    "pivot_table = pd.pivot_table(df, values='Value', index='Category', columns='Month', aggfunc='mean')\n",
    "\n",
    "# Drop rows with missing values\n",
    "no_missing_df = df.dropna()\n",
    "\n",
    "# Fill missing values with 0\n",
    "filled_df = df.fillna(0)\n",
    "\n",
    "# Add a new column 'Total'\n",
    "df['Total'] = df['Age'] + df['Salary']\n",
    "\n",
    "# Remove the 'Salary' column\n",
    "df = df.drop('Salary', axis=1)"
   ]
  },
  {
   "cell_type": "code",
   "execution_count": 20,
   "id": "da4f324a-16f6-4998-a417-f6cbdb08ea67",
   "metadata": {},
   "outputs": [
    {
     "data": {
      "text/plain": [
       "'Among Series, DataFrame, and Panel in pandas, only DataFrame is mutable in nature. We can change the data, add or remove columns, and modify its contents after creation. Series and Panel are immutable, meaning once they are created, their data cannot be changed.'"
      ]
     },
     "execution_count": 20,
     "metadata": {},
     "output_type": "execute_result"
    }
   ],
   "source": [
    "# Q6. Which of the following is mutable in nature Series, DataFrame, Panel?\n",
    "'''Among Series, DataFrame, and Panel in pandas, only DataFrame is mutable in nature. We can change the data, add or remove columns, and modify its contents after creation. Series and Panel are immutable, meaning once they are created, their data cannot be changed.'''"
   ]
  },
  {
   "cell_type": "code",
   "execution_count": null,
   "id": "2657879f-7772-4d8e-84e9-4696ed72ff72",
   "metadata": {},
   "outputs": [],
   "source": [
    "# Q7. Create a DataFrame using multiple Series. Explain with an example.\n"
   ]
  }
 ],
 "metadata": {
  "kernelspec": {
   "display_name": "Python 3 (ipykernel)",
   "language": "python",
   "name": "python3"
  },
  "language_info": {
   "codemirror_mode": {
    "name": "ipython",
    "version": 3
   },
   "file_extension": ".py",
   "mimetype": "text/x-python",
   "name": "python",
   "nbconvert_exporter": "python",
   "pygments_lexer": "ipython3",
   "version": "3.10.8"
  }
 },
 "nbformat": 4,
 "nbformat_minor": 5
}
